{
 "cells": [
  {
   "cell_type": "markdown",
   "id": "cd08287f",
   "metadata": {},
   "source": [
    "# Analyze Optical Transmission of Oatmilk"
   ]
  },
  {
   "cell_type": "markdown",
   "id": "38538eb1",
   "metadata": {},
   "source": [
    "## Import modules"
   ]
  },
  {
   "cell_type": "code",
   "execution_count": 2,
   "id": "d9d4b0e1",
   "metadata": {},
   "outputs": [],
   "source": [
    "from os import path\n",
    "import glob\n",
    "import re\n",
    "import cmocean.cm as cmo\n",
    "import numpy as np\n",
    "import xarray as xr\n",
    "import pandas as pd\n",
    "import matplotlib.pyplot as plt\n",
    "from scipy import signal"
   ]
  },
  {
   "cell_type": "markdown",
   "id": "2890cc57",
   "metadata": {},
   "source": [
    "## Load data"
   ]
  },
  {
   "cell_type": "code",
   "execution_count": null,
   "id": "c8867aed",
   "metadata": {},
   "outputs": [],
   "source": [
    "# Define paths to data and find files matching the file name pattern\n",
    "LISST_PATH = \"C:/Users/kylene.cooley/Documents/prtsz_bench_test/\"\n",
    "DATA_PATH = \"oatmilk_.*[0-9]{4}percent.csv\"\n",
    "\n",
    "# flist = re.findall(DATA_PATH, str(glob.glob(LISST_PATH)))\n",
    "flist = glob.glob(LISST_PATH) # glob is not the right tool here, need something recursive to show contents of dir"
   ]
  },
  {
   "cell_type": "code",
   "execution_count": null,
   "id": "58798ee8",
   "metadata": {},
   "outputs": [],
   "source": [
    "# Define functions\n",
    "def load_lisst(fpath, csvhdr):\n",
    "    # Load processed LISST data\n",
    "    lisst_data = pd.read_csv(f, names=csvhdr)\n",
    "    try: lisst_data.head(1) \n",
    "    except: print(\"No LISST data found.\")\n",
    "    # Create LISST time vectors for Xarray Dataset coordinates\n",
    "    lisst_time = pd.to_datetime(lisst_data[[\"year\", \"month\", \"day\", \"hour\", \"minute\", \"second\"]], yearfirst=True, utc=True)\n",
    "    lisst_data.insert(0, \"time\", lisst_time.values)\n",
    "    lisst_data.set_index(\"time\", drop=True, inplace=True)\n",
    "    # print(lisst_data.head(1))\n",
    "    # Convert data frames to xarray for easy manipulation\n",
    "    lisst_ds = xr.Dataset.from_dataframe(lisst_data)\n",
    "    return lisst_ds"
   ]
  },
  {
   "cell_type": "code",
   "execution_count": null,
   "id": "ff089310",
   "metadata": {},
   "outputs": [],
   "source": [
    "# Load LISST CSV column names from json containing column headers\n",
    "headers = pd.read_json(\"./inst_headers/lisst_hdr.json\", typ='series', orient='records')\n",
    "csvhdr = headers.iloc[0]"
   ]
  },
  {
   "cell_type": "code",
   "execution_count": null,
   "id": "2eb2c4f7",
   "metadata": {},
   "outputs": [],
   "source": [
    "# Load data to workspace\n",
    "fpath = flist[0]"
   ]
  },
  {
   "cell_type": "markdown",
   "id": "993e8d38",
   "metadata": {},
   "source": [
    "## Timeseries analysis"
   ]
  },
  {
   "cell_type": "markdown",
   "id": "4c562d68",
   "metadata": {},
   "source": [
    "## Frequency-domain analysis\n",
    "\n",
    "Compute the Welch PSD to examine the noise floor. "
   ]
  },
  {
   "cell_type": "markdown",
   "id": "9fcbc51b",
   "metadata": {},
   "source": [
    "## Particle size distribution pcolor plot"
   ]
  },
  {
   "cell_type": "markdown",
   "id": "5e5eb04c",
   "metadata": {},
   "source": []
  }
 ],
 "metadata": {
  "kernelspec": {
   "display_name": "pioneer21",
   "language": "python",
   "name": "python3"
  },
  "language_info": {
   "codemirror_mode": {
    "name": "ipython",
    "version": 3
   },
   "file_extension": ".py",
   "mimetype": "text/x-python",
   "name": "python",
   "nbconvert_exporter": "python",
   "pygments_lexer": "ipython3",
   "version": "3.13.2"
  }
 },
 "nbformat": 4,
 "nbformat_minor": 5
}
